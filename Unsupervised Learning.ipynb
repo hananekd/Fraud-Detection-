{
 "cells": [
  {
   "cell_type": "code",
   "execution_count": 36,
   "metadata": {},
   "outputs": [],
   "source": [
    "import numpy as np\n",
    "import pandas as pd\n",
    "import sklearn\n",
    "import random\n",
    "from sklearn.preprocessing import StandardScaler\n",
    "from sklearn.preprocessing import LabelEncoder\n",
    "from datetime import timedelta\n",
    "import matplotlib.pyplot as plt\n",
    "from sklearn.cluster import KMeans\n",
    "from sklearn.metrics import calinski_harabasz_score\n",
    "from deap import base, creator, tools, algorithms\n",
    "from sklearn import svm\n",
    "from sklearn.metrics import davies_bouldin_score\n",
    "from sklearn.model_selection import train_test_split\n"
   ]
  },
  {
   "cell_type": "markdown",
   "metadata": {},
   "source": [
    "Importing Data"
   ]
  },
  {
   "cell_type": "code",
   "execution_count": 37,
   "metadata": {},
   "outputs": [
    {
     "data": {
      "text/plain": [
       "Index(['transaction_id', 'transaction_amount', 'card_number',\n",
       "       'Transaction_date', 'transaction_status', 'atm_ID', 'atm_location',\n",
       "       'transaction_category', 'time_between_trans', 'isCashPresented',\n",
       "       'isCashTaken', 'isCashRetracted', 'isCashoutError', 'ExistInHost',\n",
       "       'is_fraud', 'fraud_reason', 'n_PIN_attempts', 'Organisation',\n",
       "       'transaction_frequency_per_day', 'transaction_frequency_per_min',\n",
       "       'year', 'month', 'day', 'hour', 'minute', 'second', 'is_RC_fraud',\n",
       "       'is_IF_fraud', 'is_CVM_fraud', 'is_PIN_fraud', 'cvm_methods', 'mean',\n",
       "       'diff', 'is_HM_fraud', 'is_ATML_fraud', 'expiry_date',\n",
       "       'is_expDate_fraud', 'all_frauds', 'all_fraudsnames', 'distance_time',\n",
       "       'is_Loc_Discrepancy_fraud', 'issuer_city', 'is_ISSU_fraud',\n",
       "       'is_unMonth_fraud', 'is_unDay_fraud', 'is_unhour_fraud'],\n",
       "      dtype='object')"
      ]
     },
     "execution_count": 37,
     "metadata": {},
     "output_type": "execute_result"
    }
   ],
   "source": [
    "\n",
    "path='C:/Users/admin/Desktop/datas/'\n",
    "data=pd.read_csv(path+'fraudcases.csv')\n",
    "data.columns\n"
   ]
  },
  {
   "cell_type": "markdown",
   "metadata": {},
   "source": [
    "Data Preprocessing "
   ]
  },
  {
   "cell_type": "code",
   "execution_count": 38,
   "metadata": {},
   "outputs": [],
   "source": [
    "data.dropna(inplace=True)\n",
    "data.drop(['is_unDay_fraud', 'is_unMonth_fraud'],axis=1,inplace=True)\n",
    "data.drop(['year', 'month','day','hour','day','minute','second'],axis=1,inplace=True)"
   ]
  },
  {
   "cell_type": "code",
   "execution_count": 39,
   "metadata": {},
   "outputs": [],
   "source": [
    "\n",
    "data.drop(['atm_ID', 'atm_location','fraud_reason','Organisation','transaction_frequency_per_day','mean','diff','is_ATML_fraud','all_frauds','all_fraudsnames','distance_time','is_Loc_Discrepancy_fraud','is_ISSU_fraud'],axis=1,inplace=True)\n"
   ]
  },
  {
   "cell_type": "code",
   "execution_count": 40,
   "metadata": {},
   "outputs": [
    {
     "data": {
      "text/plain": [
       "Index(['transaction_id', 'transaction_amount', 'card_number',\n",
       "       'Transaction_date', 'transaction_status', 'transaction_category',\n",
       "       'time_between_trans', 'isCashPresented', 'isCashTaken',\n",
       "       'isCashRetracted', 'isCashoutError', 'ExistInHost', 'is_fraud',\n",
       "       'n_PIN_attempts', 'transaction_frequency_per_min', 'is_RC_fraud',\n",
       "       'is_IF_fraud', 'is_CVM_fraud', 'is_PIN_fraud', 'cvm_methods',\n",
       "       'is_HM_fraud', 'expiry_date', 'is_expDate_fraud', 'issuer_city',\n",
       "       'is_unhour_fraud'],\n",
       "      dtype='object')"
      ]
     },
     "execution_count": 40,
     "metadata": {},
     "output_type": "execute_result"
    }
   ],
   "source": [
    "data.columns"
   ]
  },
  {
   "cell_type": "code",
   "execution_count": 41,
   "metadata": {},
   "outputs": [],
   "source": [
    "hour_freq = data['transaction_frequency_per_min'] * 60\n",
    "data[\"transaction_frequency_per_hour\"]= hour_freq"
   ]
  },
  {
   "cell_type": "code",
   "execution_count": 42,
   "metadata": {},
   "outputs": [],
   "source": [
    "data.drop([\"transaction_frequency_per_min\"],axis= 1,inplace=True)"
   ]
  },
  {
   "cell_type": "code",
   "execution_count": 43,
   "metadata": {},
   "outputs": [],
   "source": [
    "\n",
    "\n",
    "def generate_expiry_diff(data):\n",
    "    expiry_dates = []\n",
    "    expiry_diffs = []\n",
    "\n",
    "    for index, row in data.iterrows():\n",
    "        transaction_date = pd.to_datetime(row['Transaction_date'])\n",
    "\n",
    "        random_year = random.randint(1, 4)\n",
    "        random_month = random.randint(1, 12)\n",
    "        random_day = random.randint(1, 30)\n",
    "        random_hour = random.randint(0, 23)\n",
    "        random_minute = random.randint(0, 59)\n",
    "        random_second = random.randint(0, 59)\n",
    "\n",
    "        if random.random() < 0.11:  # 11% chance of generating an invalid expiry date\n",
    "            new_expiry_date = transaction_date + timedelta(\n",
    "                days=random_day,\n",
    "                hours=random_hour,\n",
    "                minutes=random_minute,\n",
    "                seconds=random_second\n",
    "            )\n",
    "        else:\n",
    "            new_expiry_date = transaction_date - timedelta(\n",
    "                days=random_day,\n",
    "                hours=random_hour,\n",
    "                minutes=random_minute,\n",
    "                seconds=random_second\n",
    "            )\n",
    "\n",
    "        expiry_dates.append(new_expiry_date)\n",
    "        expiry_diff = (transaction_date - new_expiry_date).total_seconds() / 60\n",
    "        expiry_diffs.append(expiry_diff)\n",
    "\n",
    "    return expiry_dates , expiry_diffs\n",
    "\n",
    "\n",
    "# Call the function to generate expiry dates and differences\n",
    "expiry_dates , expiry_diffs = generate_expiry_diff(data)\n",
    "\n"
   ]
  },
  {
   "cell_type": "code",
   "execution_count": 44,
   "metadata": {},
   "outputs": [],
   "source": [
    "data['expiry_date'] = expiry_dates\n",
    "data['exp_diff'] = expiry_diffs"
   ]
  },
  {
   "cell_type": "code",
   "execution_count": 45,
   "metadata": {},
   "outputs": [],
   "source": [
    "# Assuming you have a DataFrame called 'df' containing the sub-target variables\n",
    "# Create a new column 'is_fraud' with 1 if more than 3 sub-target variables are 1, else 0\n",
    "data['is_fraud'] = (data[['is_PIN_fraud', 'is_HM_fraud', 'is_RC_fraud', 'is_expDate_fraud',\n",
    "                     'is_IF_fraud', 'is_CVM_fraud', 'is_unhour_fraud']].sum(axis=1) > 2).astype(int)\n"
   ]
  },
  {
   "cell_type": "code",
   "execution_count": 46,
   "metadata": {},
   "outputs": [],
   "source": [
    "\n",
    "data2=data.loc[data['is_fraud']==1]\n",
    "data1=data.loc[data['is_fraud']==0].iloc[:20000]\n",
    "data3=pd.concat([data1,data2]).reset_index(drop=True)\n"
   ]
  },
  {
   "cell_type": "code",
   "execution_count": 47,
   "metadata": {},
   "outputs": [],
   "source": [
    "data5=data3.drop(['is_RC_fraud','is_IF_fraud', 'is_CVM_fraud','is_unhour_fraud','is_expDate_fraud','is_HM_fraud','is_PIN_fraud'],axis=1)\n",
    "data5 = data5.sample(frac=1, random_state=42)\n",
    "data5.reset_index(drop=True, inplace=True)"
   ]
  },
  {
   "cell_type": "code",
   "execution_count": 48,
   "metadata": {},
   "outputs": [],
   "source": [
    "data5.drop(['Transaction_date','card_number','expiry_date','transaction_id'],axis=1,inplace=True)"
   ]
  },
  {
   "cell_type": "code",
   "execution_count": 49,
   "metadata": {},
   "outputs": [
    {
     "data": {
      "text/plain": [
       "Index(['transaction_amount', 'transaction_status', 'transaction_category',\n",
       "       'time_between_trans', 'isCashPresented', 'isCashTaken',\n",
       "       'isCashRetracted', 'isCashoutError', 'ExistInHost', 'is_fraud',\n",
       "       'n_PIN_attempts', 'cvm_methods', 'issuer_city',\n",
       "       'transaction_frequency_per_hour', 'exp_diff'],\n",
       "      dtype='object')"
      ]
     },
     "execution_count": 49,
     "metadata": {},
     "output_type": "execute_result"
    }
   ],
   "source": [
    "data5.columns"
   ]
  },
  {
   "cell_type": "code",
   "execution_count": 50,
   "metadata": {},
   "outputs": [],
   "source": [
    "data5.drop(['is_fraud'],axis=1,inplace=True)"
   ]
  },
  {
   "cell_type": "markdown",
   "metadata": {},
   "source": [
    "Data Encoding"
   ]
  },
  {
   "cell_type": "code",
   "execution_count": 51,
   "metadata": {},
   "outputs": [],
   "source": [
    "# Create a LabelEncoder instance\n",
    "label_encoder = LabelEncoder()\n",
    "\n",
    "# Fit and transform the categorical feature\n",
    "data5['issuer_city'] = label_encoder.fit_transform(data5['issuer_city'])\n",
    "data5['transaction_category'] = label_encoder.fit_transform(data5['transaction_category'])\n"
   ]
  },
  {
   "cell_type": "markdown",
   "metadata": {},
   "source": [
    "Data Scaling "
   ]
  },
  {
   "cell_type": "code",
   "execution_count": 52,
   "metadata": {},
   "outputs": [],
   "source": [
    "scaler = StandardScaler()\n",
    "scaler.fit(data5)\n",
    "data5_scaled = scaler.transform(data5)"
   ]
  },
  {
   "cell_type": "markdown",
   "metadata": {},
   "source": [
    "K_means: hyperparameter tuning "
   ]
  },
  {
   "cell_type": "code",
   "execution_count": 53,
   "metadata": {},
   "outputs": [
    {
     "name": "stderr",
     "output_type": "stream",
     "text": [
      "C:\\Users\\admin\\AppData\\Roaming\\Python\\Python310\\site-packages\\sklearn\\cluster\\_kmeans.py:870: FutureWarning: The default value of `n_init` will change from 10 to 'auto' in 1.4. Set the value of `n_init` explicitly to suppress the warning\n",
      "  warnings.warn(\n",
      "C:\\Users\\admin\\AppData\\Roaming\\Python\\Python310\\site-packages\\sklearn\\cluster\\_kmeans.py:870: FutureWarning: The default value of `n_init` will change from 10 to 'auto' in 1.4. Set the value of `n_init` explicitly to suppress the warning\n",
      "  warnings.warn(\n",
      "C:\\Users\\admin\\AppData\\Roaming\\Python\\Python310\\site-packages\\sklearn\\cluster\\_kmeans.py:870: FutureWarning: The default value of `n_init` will change from 10 to 'auto' in 1.4. Set the value of `n_init` explicitly to suppress the warning\n",
      "  warnings.warn(\n",
      "C:\\Users\\admin\\AppData\\Roaming\\Python\\Python310\\site-packages\\sklearn\\cluster\\_kmeans.py:870: FutureWarning: The default value of `n_init` will change from 10 to 'auto' in 1.4. Set the value of `n_init` explicitly to suppress the warning\n",
      "  warnings.warn(\n",
      "C:\\Users\\admin\\AppData\\Roaming\\Python\\Python310\\site-packages\\sklearn\\cluster\\_kmeans.py:870: FutureWarning: The default value of `n_init` will change from 10 to 'auto' in 1.4. Set the value of `n_init` explicitly to suppress the warning\n",
      "  warnings.warn(\n",
      "C:\\Users\\admin\\AppData\\Roaming\\Python\\Python310\\site-packages\\sklearn\\cluster\\_kmeans.py:870: FutureWarning: The default value of `n_init` will change from 10 to 'auto' in 1.4. Set the value of `n_init` explicitly to suppress the warning\n",
      "  warnings.warn(\n",
      "C:\\Users\\admin\\AppData\\Roaming\\Python\\Python310\\site-packages\\sklearn\\cluster\\_kmeans.py:870: FutureWarning: The default value of `n_init` will change from 10 to 'auto' in 1.4. Set the value of `n_init` explicitly to suppress the warning\n",
      "  warnings.warn(\n",
      "C:\\Users\\admin\\AppData\\Roaming\\Python\\Python310\\site-packages\\sklearn\\cluster\\_kmeans.py:870: FutureWarning: The default value of `n_init` will change from 10 to 'auto' in 1.4. Set the value of `n_init` explicitly to suppress the warning\n",
      "  warnings.warn(\n",
      "C:\\Users\\admin\\AppData\\Roaming\\Python\\Python310\\site-packages\\sklearn\\cluster\\_kmeans.py:870: FutureWarning: The default value of `n_init` will change from 10 to 'auto' in 1.4. Set the value of `n_init` explicitly to suppress the warning\n",
      "  warnings.warn(\n",
      "C:\\Users\\admin\\AppData\\Roaming\\Python\\Python310\\site-packages\\sklearn\\cluster\\_kmeans.py:870: FutureWarning: The default value of `n_init` will change from 10 to 'auto' in 1.4. Set the value of `n_init` explicitly to suppress the warning\n",
      "  warnings.warn(\n"
     ]
    },
    {
     "data": {
      "image/png": "[encoded data removed]",
      "text/plain": [
       "<Figure size 1080x432 with 10 Axes>"
      ]
     },
     "metadata": {
      "needs_background": "light"
     },
     "output_type": "display_data"
    }
   ],
   "source": [
    "\n",
    "# Create an array to store the Calinski-Harabasz scores for each 'n_clusters' value\n",
    "ch_scores = []\n",
    "\n",
    "# Create a subplot for each 'n_clusters' value\n",
    "fig, axs = plt.subplots(2, 5, figsize=(15, 6))\n",
    "axs = axs.ravel()\n",
    "\n",
    "# Iterate through 'n_clusters' values from 1 to 10\n",
    "for n_clusters in range(1, 11):\n",
    "    # Fit K-means with the current 'n_clusters' value\n",
    "    kmeans = KMeans(n_clusters=n_clusters)\n",
    "    kmeans.fit(data5_scaled)\n",
    "    labels = kmeans.labels_\n",
    "    ch_score = 0\n",
    "    # Calculate the Calinski-Harabasz score and store it\n",
    "    if len(np.unique(labels)) > 1:\n",
    "        # Calculate the Calinski-Harabasz score and store it\n",
    "        ch_score = sklearn.metrics.davies_bouldin_score(data5_scaled, labels)\n",
    "        ch_scores.append(ch_score)\n",
    "    ch_scores.append(ch_score)"
   ]
  },
  {
   "cell_type": "code",
   "execution_count": 54,
   "metadata": {},
   "outputs": [
    {
     "data": {
      "text/plain": [
       "Text(0.5, 1.0, 'num clusters Vs davies_bouldin_score')"
      ]
     },
     "execution_count": 54,
     "metadata": {},
     "output_type": "execute_result"
    },
    {
     "data": {
      "image/png": "[encoded data removed]",
      "text/plain": [
       "<Figure size 432x288 with 1 Axes>"
      ]
     },
     "metadata": {
      "needs_background": "light"
     },
     "output_type": "display_data"
    }
   ],
   "source": [
    "plt.plot(ch_scores)\n",
    "plt.title('num clusters Vs davies_bouldin_score')"
   ]
  },
  {
   "cell_type": "markdown",
   "metadata": {},
   "source": [
    "kmeans results"
   ]
  },
  {
   "cell_type": "code",
   "execution_count": 56,
   "metadata": {},
   "outputs": [
    {
     "name": "stderr",
     "output_type": "stream",
     "text": [
      "C:\\Users\\admin\\AppData\\Roaming\\Python\\Python310\\site-packages\\sklearn\\cluster\\_kmeans.py:870: FutureWarning: The default value of `n_init` will change from 10 to 'auto' in 1.4. Set the value of `n_init` explicitly to suppress the warning\n",
      "  warnings.warn(\n"
     ]
    }
   ],
   "source": [
    "kmeans = KMeans(n_clusters=2)\n",
    "kmeans.fit(data5_scaled)\n",
    "labels = kmeans.labels_"
   ]
  },
  {
   "cell_type": "code",
   "execution_count": 57,
   "metadata": {},
   "outputs": [
    {
     "data": {
      "image/png": "[encoded data removed]",
      "text/plain": [
       "<Figure size 360x360 with 1 Axes>"
      ]
     },
     "metadata": {},
     "output_type": "display_data"
    }
   ],
   "source": [
    "\n",
    "pred_counts=pd.Series(labels).value_counts()\n",
    "pred_counts.plot.pie(figsize=(5, 5), autopct='%1.1f%%', startangle=90,fontsize=5)\n",
    "\n",
    "plt.title('pred Frequencies')\n",
    "plt.axis('equal')\n",
    "plt.show()"
   ]
  },
  {
   "cell_type": "code",
   "execution_count": 58,
   "metadata": {},
   "outputs": [
    {
     "name": "stdout",
     "output_type": "stream",
     "text": [
      "Calinski-Harabasz Index: 6446.172444297582\n"
     ]
    }
   ],
   "source": [
    "\n",
    "#  Calculate the Calinski-Harabasz Index\n",
    "score = calinski_harabasz_score(data5_scaled, labels)\n",
    "\n",
    "print(\"Calinski-Harabasz Index:\", score)"
   ]
  },
  {
   "cell_type": "code",
   "execution_count": 59,
   "metadata": {},
   "outputs": [
    {
     "name": "stdout",
     "output_type": "stream",
     "text": [
      "davies_bouldin_score: 0.11547805743320672\n"
     ]
    }
   ],
   "source": [
    "dbi = davies_bouldin_score(data5_scaled, labels)\n",
    "print(\"davies_bouldin_score:\", dbi)"
   ]
  },
  {
   "cell_type": "markdown",
   "metadata": {},
   "source": [
    "SVM:Hyperparameter tuning "
   ]
  },
  {
   "cell_type": "code",
   "execution_count": 60,
   "metadata": {},
   "outputs": [],
   "source": [
    "# Split the data into training and test sets\n",
    "train_data, test_data = train_test_split(data5_scaled, train_size=0.8)"
   ]
  },
  {
   "cell_type": "code",
   "execution_count": 61,
   "metadata": {},
   "outputs": [
    {
     "name": "stderr",
     "output_type": "stream",
     "text": [
      "C:\\Users\\admin\\AppData\\Roaming\\Python\\Python310\\site-packages\\deap\\creator.py:185: RuntimeWarning: A class named 'FitnessMin' has already been created and it will be overwritten. Consider deleting previous creation of that class or rename it.\n",
      "  warnings.warn(\"A class named '{0}' has already been created and it \"\n",
      "C:\\Users\\admin\\AppData\\Roaming\\Python\\Python310\\site-packages\\deap\\creator.py:185: RuntimeWarning: A class named 'Individual' has already been created and it will be overwritten. Consider deleting previous creation of that class or rename it.\n",
      "  warnings.warn(\"A class named '{0}' has already been created and it \"\n"
     ]
    },
    {
     "name": "stdout",
     "output_type": "stream",
     "text": [
      "individual:\n",
      "0.2 rbf 0.1\n",
      "\n",
      "\n",
      "individual:\n",
      "0.01 sigmoid 10\n",
      "\n",
      "\n",
      "individual:\n",
      "0.2 rbf 1\n",
      "\n",
      "\n",
      "individual:\n",
      "0.1 sigmoid 1\n",
      "\n",
      "\n",
      "individual:\n",
      "0.2 linear 1\n",
      "\n",
      "\n",
      "individual:\n",
      "0.1 rbf 1\n",
      "\n",
      "\n",
      "individual:\n",
      "0.01 rbf 10\n",
      "\n",
      "\n",
      "individual:\n",
      "0.05 linear 0.1\n",
      "\n",
      "\n",
      "individual:\n",
      "0.01 sigmoid 0.1\n",
      "\n",
      "\n",
      "individual:\n",
      "0.2 linear 1\n",
      "\n",
      "\n",
      "gen\tnevals\n",
      "0  \t10    \n",
      "1  \t20    \n",
      "2  \t20    \n",
      "3  \t20    \n",
      "4  \t20    \n",
      "5  \t20    \n",
      "6  \t20    \n",
      "7  \t20    \n",
      "8  \t20    \n",
      "9  \t20    \n",
      "10 \t20    \n",
      "11 \t20    \n",
      "12 \t20    \n",
      "13 \t20    \n",
      "14 \t20    \n",
      "15 \t20    \n",
      "16 \t20    \n",
      "17 \t20    \n",
      "18 \t20    \n",
      "19 \t20    \n",
      "20 \t20    \n"
     ]
    }
   ],
   "source": [
    "# Define the DEAP creator and individual classes\n",
    "creator.create(\"FitnessMin\", base.Fitness, weights=(1.0,))\n",
    "creator.create(\"Individual\", list, fitness=creator.FitnessMin)\n",
    "\n",
    "# Define the hyperparameter search space\n",
    "hyperparameter_space = {\n",
    "    'nu': [0.01, 0.05, 0.1, 0.2],\n",
    "    'kernel': ['rbf','sigmoid','poly'],\n",
    "    'gamma': [0.1, 1, 10]\n",
    "}\n",
    "\n",
    "# Define functions to generate individuals and populations\n",
    "def generate_individual():\n",
    "    print('individual:')\n",
    "    print(random.choice(hyperparameter_space['nu']),\n",
    "            random.choice(['rbf', 'sigmoid', 'linear']),  # Choose from valid kernels\n",
    "            random.choice(hyperparameter_space['gamma']))\n",
    "    print('\\n')\n",
    "    return [random.choice(hyperparameter_space['nu']),\n",
    "            random.choice(['rbf', 'sigmoid', 'linear']),  # Choose from valid kernels\n",
    "            random.choice(hyperparameter_space['gamma'])]\n",
    "\n",
    "\n",
    "def generate_population(n):\n",
    "    print('generation')\n",
    "    print(generate_individual() for _ in range(n))\n",
    "    print('\\n')\n",
    "    return [generate_individual() for _ in range(n)]\n",
    "\n",
    "# Define the evaluation function (fitness function)\n",
    "def evaluate_individual(individual):\n",
    "    nu, kernel, gamma = individual\n",
    "    score = 0\n",
    "    if (kernel in ['rbf', 'sigmoid', 'linear']) and (nu in [0.01, 0.05, 0.1, 0.2]) and (gamma in [0.1, 1, 10]):\n",
    "        model = svm.OneClassSVM(nu=nu, kernel=kernel, gamma=gamma)\n",
    "        model.fit(train_data)\n",
    "        labels = model.predict(test_data)\n",
    "        score = calinski_harabasz_score(test_data, labels)\n",
    "    return score,\n",
    "\n",
    "# Create a DEAP toolbox\n",
    "toolbox = base.Toolbox()\n",
    "toolbox.register(\"individual\", tools.initIterate, creator.Individual, generate_individual)\n",
    "toolbox.register(\"population\", tools.initRepeat, list, toolbox.individual)\n",
    "toolbox.register(\"evaluate\", evaluate_individual)\n",
    "toolbox.register(\"mate\", tools.cxTwoPoint)\n",
    "toolbox.register(\"mutate\", tools.mutUniformInt, low=[0, 0, 0], up=[4, 1, 2], indpb=0.2)\n",
    "toolbox.register(\"select\", tools.selTournament, tournsize=3)\n",
    "\n",
    "# Create an initial population\n",
    "population = toolbox.population(n=10)\n",
    "\n",
    "# Run the genetic algorithm\n",
    "result, logbook = algorithms.eaMuPlusLambda(population, toolbox, mu=10, lambda_=20,\n",
    "                                            cxpb=0.7, mutpb=0.3, ngen=20, stats=None,\n",
    "                                            halloffame=None, verbose=True)\n",
    "\n",
    "# Get the best individual (hyperparameters)\n",
    "best_individual = tools.selBest(result, k=1)[0]\n",
    "\n",
    "# Train the model with the best hyperparameters\n",
    "nu, kernel, gamma = best_individual\n",
    "best_model = svm.OneClassSVM(nu=nu, kernel=kernel, gamma=gamma)\n",
    "best_model.fit(train_data)\n",
    "\n",
    "# Make predictions on the test set\n",
    "pred = best_model.predict(test_data)\n"
   ]
  },
  {
   "cell_type": "markdown",
   "metadata": {},
   "source": [
    "One class : SVM results"
   ]
  },
  {
   "cell_type": "code",
   "execution_count": 62,
   "metadata": {},
   "outputs": [
    {
     "data": {
      "image/png": "[encoded data removed]",
      "text/plain": [
       "<Figure size 360x360 with 1 Axes>"
      ]
     },
     "metadata": {},
     "output_type": "display_data"
    }
   ],
   "source": [
    "\n",
    "pred_counts=pd.Series(pred).value_counts()\n",
    "pred_counts.plot.pie(figsize=(5, 5), autopct='%1.1f%%', startangle=90,fontsize=5)\n",
    "\n",
    "plt.title('pred Frequencies')\n",
    "plt.axis('equal')\n",
    "plt.show()"
   ]
  },
  {
   "cell_type": "code",
   "execution_count": 63,
   "metadata": {},
   "outputs": [
    {
     "name": "stdout",
     "output_type": "stream",
     "text": [
      "Calinski-Harabasz Index: 392.5743318567422\n"
     ]
    }
   ],
   "source": [
    "\n",
    "#  Calculate the Calinski-Harabasz Index\n",
    "score = calinski_harabasz_score(test_data, pred)\n",
    "\n",
    "print(\"Calinski-Harabasz Index:\", score)"
   ]
  },
  {
   "cell_type": "code",
   "execution_count": 64,
   "metadata": {},
   "outputs": [
    {
     "name": "stdout",
     "output_type": "stream",
     "text": [
      "davies_bouldin_score: 1.9319310714665405\n"
     ]
    }
   ],
   "source": [
    "\n",
    "dbi = davies_bouldin_score(test_data, pred)\n",
    "print(\"davies_bouldin_score:\", dbi)"
   ]
  },
  {
   "cell_type": "code",
   "execution_count": null,
   "metadata": {},
   "outputs": [],
   "source": []
  }
 ],
 "metadata": {
  "kernelspec": {
   "display_name": "Python 3",
   "language": "python",
   "name": "python3"
  },
  "language_info": {
   "codemirror_mode": {
    "name": "ipython",
    "version": 3
   },
   "file_extension": ".py",
   "mimetype": "text/x-python",
   "name": "python",
   "nbconvert_exporter": "python",
   "pygments_lexer": "ipython3",
   "version": "3.10.1"
  },
  "orig_nbformat": 4
 },
 "nbformat": 4,
 "nbformat_minor": 2
}
